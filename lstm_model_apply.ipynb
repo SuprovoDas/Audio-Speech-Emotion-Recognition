{
 "cells": [
  {
   "cell_type": "code",
   "execution_count": 1,
   "metadata": {},
   "outputs": [],
   "source": [
    "import tensorflow as tf\n",
    "from tensorflow.keras.models import Sequential\n",
    "from tensorflow.keras.layers import LSTM, Dense, Dropout, BatchNormalization"
   ]
  },
  {
   "cell_type": "code",
   "execution_count": 2,
   "metadata": {},
   "outputs": [
    {
     "name": "stdout",
     "output_type": "stream",
     "text": [
      "C:/Users/Dell/Downloads/Speech Recognition/unseen data/16b10Fb.wav\n",
      "C:/Users/Dell/Downloads/Speech Recognition/unseen data/16b10Lb.wav\n",
      "C:/Users/Dell/Downloads/Speech Recognition/unseen data/angry_male.mp3\n",
      "C:/Users/Dell/Downloads/Speech Recognition/unseen data/JK_n03.wav\n",
      "C:/Users/Dell/Downloads/Speech Recognition/unseen data/Joy.wav\n",
      "C:/Users/Dell/Downloads/Speech Recognition/unseen data/my_angry.wav\n",
      "C:/Users/Dell/Downloads/Speech Recognition/unseen data/my_disgust.wav\n",
      "C:/Users/Dell/Downloads/Speech Recognition/unseen data/my_happy.wav\n",
      "C:/Users/Dell/Downloads/Speech Recognition/unseen data/my_upset.wav\n",
      "C:/Users/Dell/Downloads/Speech Recognition/unseen data/neutral_male.mp3\n"
     ]
    }
   ],
   "source": [
    "import pandas as pd\n",
    "import os\n",
    "import feature_extract\n",
    "import numpy as np\n",
    "folder = 'C:/Users/Dell/Downloads/Speech Recognition/unseen data/'\n",
    "feature = []\n",
    "\n",
    "for audio in os.listdir(folder):\n",
    "    audio_path = folder+audio\n",
    "    z = feature_extract.feature_extraction(audio_path)\n",
    "    feature.append(z)        # class 4 = Neural  class 5 = Pleasant Surprise   class 6 = Sad\n",
    "data = pd.DataFrame(feature)"
   ]
  },
  {
   "cell_type": "code",
   "execution_count": 3,
   "metadata": {},
   "outputs": [
    {
     "data": {
      "text/html": [
       "<div>\n",
       "<style scoped>\n",
       "    .dataframe tbody tr th:only-of-type {\n",
       "        vertical-align: middle;\n",
       "    }\n",
       "\n",
       "    .dataframe tbody tr th {\n",
       "        vertical-align: top;\n",
       "    }\n",
       "\n",
       "    .dataframe thead th {\n",
       "        text-align: right;\n",
       "    }\n",
       "</style>\n",
       "<table border=\"1\" class=\"dataframe\">\n",
       "  <thead>\n",
       "    <tr style=\"text-align: right;\">\n",
       "      <th></th>\n",
       "      <th>0</th>\n",
       "      <th>1</th>\n",
       "      <th>2</th>\n",
       "      <th>3</th>\n",
       "      <th>4</th>\n",
       "      <th>5</th>\n",
       "      <th>6</th>\n",
       "      <th>7</th>\n",
       "      <th>8</th>\n",
       "      <th>9</th>\n",
       "      <th>...</th>\n",
       "      <th>34</th>\n",
       "      <th>35</th>\n",
       "      <th>36</th>\n",
       "      <th>37</th>\n",
       "      <th>38</th>\n",
       "      <th>39</th>\n",
       "      <th>Mean Pitch</th>\n",
       "      <th>Mean Energy</th>\n",
       "      <th>HNR</th>\n",
       "      <th>ZCR</th>\n",
       "    </tr>\n",
       "  </thead>\n",
       "  <tbody>\n",
       "    <tr>\n",
       "      <th>0</th>\n",
       "      <td>-292.250000</td>\n",
       "      <td>46.570000</td>\n",
       "      <td>-73.849998</td>\n",
       "      <td>49.509998</td>\n",
       "      <td>-28.51</td>\n",
       "      <td>-0.10</td>\n",
       "      <td>-22.469999</td>\n",
       "      <td>-2.27</td>\n",
       "      <td>-13.42</td>\n",
       "      <td>-8.05</td>\n",
       "      <td>...</td>\n",
       "      <td>5.18</td>\n",
       "      <td>1.77</td>\n",
       "      <td>2.38</td>\n",
       "      <td>-0.50</td>\n",
       "      <td>2.54</td>\n",
       "      <td>1.48</td>\n",
       "      <td>878.539978</td>\n",
       "      <td>13.74</td>\n",
       "      <td>-7.11</td>\n",
       "      <td>0.14</td>\n",
       "    </tr>\n",
       "    <tr>\n",
       "      <th>1</th>\n",
       "      <td>-243.130005</td>\n",
       "      <td>87.339996</td>\n",
       "      <td>-30.290001</td>\n",
       "      <td>63.970001</td>\n",
       "      <td>-15.73</td>\n",
       "      <td>6.76</td>\n",
       "      <td>-18.580000</td>\n",
       "      <td>-5.19</td>\n",
       "      <td>-7.07</td>\n",
       "      <td>-5.35</td>\n",
       "      <td>...</td>\n",
       "      <td>4.25</td>\n",
       "      <td>1.53</td>\n",
       "      <td>2.88</td>\n",
       "      <td>0.19</td>\n",
       "      <td>-1.26</td>\n",
       "      <td>0.21</td>\n",
       "      <td>438.100006</td>\n",
       "      <td>33.49</td>\n",
       "      <td>1.48</td>\n",
       "      <td>0.09</td>\n",
       "    </tr>\n",
       "    <tr>\n",
       "      <th>2</th>\n",
       "      <td>-381.019989</td>\n",
       "      <td>102.120003</td>\n",
       "      <td>12.580000</td>\n",
       "      <td>14.270000</td>\n",
       "      <td>14.30</td>\n",
       "      <td>8.25</td>\n",
       "      <td>-0.100000</td>\n",
       "      <td>0.20</td>\n",
       "      <td>-0.62</td>\n",
       "      <td>-3.05</td>\n",
       "      <td>...</td>\n",
       "      <td>-0.91</td>\n",
       "      <td>0.52</td>\n",
       "      <td>-2.57</td>\n",
       "      <td>-1.47</td>\n",
       "      <td>0.32</td>\n",
       "      <td>1.96</td>\n",
       "      <td>390.369995</td>\n",
       "      <td>11.45</td>\n",
       "      <td>-4.59</td>\n",
       "      <td>0.05</td>\n",
       "    </tr>\n",
       "  </tbody>\n",
       "</table>\n",
       "<p>3 rows × 44 columns</p>\n",
       "</div>"
      ],
      "text/plain": [
       "            0           1          2          3      4     5          6     7  \\\n",
       "0 -292.250000   46.570000 -73.849998  49.509998 -28.51 -0.10 -22.469999 -2.27   \n",
       "1 -243.130005   87.339996 -30.290001  63.970001 -15.73  6.76 -18.580000 -5.19   \n",
       "2 -381.019989  102.120003  12.580000  14.270000  14.30  8.25  -0.100000  0.20   \n",
       "\n",
       "       8     9  ...    34    35    36    37    38    39  Mean Pitch  \\\n",
       "0 -13.42 -8.05  ...  5.18  1.77  2.38 -0.50  2.54  1.48  878.539978   \n",
       "1  -7.07 -5.35  ...  4.25  1.53  2.88  0.19 -1.26  0.21  438.100006   \n",
       "2  -0.62 -3.05  ... -0.91  0.52 -2.57 -1.47  0.32  1.96  390.369995   \n",
       "\n",
       "   Mean Energy   HNR   ZCR  \n",
       "0        13.74 -7.11  0.14  \n",
       "1        33.49  1.48  0.09  \n",
       "2        11.45 -4.59  0.05  \n",
       "\n",
       "[3 rows x 44 columns]"
      ]
     },
     "execution_count": 3,
     "metadata": {},
     "output_type": "execute_result"
    }
   ],
   "source": [
    "data.head(3)"
   ]
  },
  {
   "cell_type": "code",
   "execution_count": 4,
   "metadata": {},
   "outputs": [
    {
     "data": {
      "text/plain": [
       "Index([            0,             1,             2,             3,\n",
       "                   4,             5,             6,             7,\n",
       "                   8,             9,            10,            11,\n",
       "                  12,            13,            14,            15,\n",
       "                  16,            17,            18,            19,\n",
       "                  20,            21,            22,            23,\n",
       "                  24,            25,            26,            27,\n",
       "                  28,            29,            30,            31,\n",
       "                  32,            33,            34,            35,\n",
       "                  36,            37,            38,            39,\n",
       "        'Mean Pitch', 'Mean Energy',         'HNR',         'ZCR'],\n",
       "      dtype='object')"
      ]
     },
     "execution_count": 4,
     "metadata": {},
     "output_type": "execute_result"
    }
   ],
   "source": [
    "data.columns"
   ]
  },
  {
   "cell_type": "code",
   "execution_count": 5,
   "metadata": {},
   "outputs": [],
   "source": [
    "df = data.to_numpy()\n",
    "reshaped_df = df.reshape(df.shape[0], 1, df.shape[1]) "
   ]
  },
  {
   "cell_type": "code",
   "execution_count": 6,
   "metadata": {},
   "outputs": [
    {
     "name": "stdout",
     "output_type": "stream",
     "text": [
      "\u001b[1m1/1\u001b[0m \u001b[32m━━━━━━━━━━━━━━━━━━━━\u001b[0m\u001b[37m\u001b[0m \u001b[1m0s\u001b[0m 230ms/step\n",
      "Predicted class: [[0.1  0.   0.15 0.39 0.   0.35 0.  ]\n",
      " [0.01 0.02 0.   0.96 0.   0.   0.  ]\n",
      " [0.   0.97 0.   0.   0.   0.   0.03]\n",
      " [0.01 0.02 0.02 0.   0.01 0.   0.94]\n",
      " [0.   1.   0.   0.   0.   0.   0.  ]\n",
      " [0.   1.   0.   0.   0.   0.   0.  ]\n",
      " [0.   1.   0.   0.   0.   0.   0.  ]\n",
      " [0.   1.   0.   0.   0.   0.   0.  ]\n",
      " [0.   1.   0.   0.   0.   0.   0.  ]\n",
      " [0.   1.   0.   0.   0.   0.   0.  ]]\n",
      "[3 3 1 6 1 1 1 1 1 1]\n"
     ]
    }
   ],
   "source": [
    "from tensorflow.keras.models import load_model\n",
    "predictions = []\n",
    "# Load the trained model\n",
    "lstm_model = load_model('audio_new_lstm_model.keras')\n",
    "\n",
    "# Predict on the new data\n",
    "predictions = lstm_model.predict(reshaped_df)\n",
    "\n",
    "# For classification, you might want to get the class with the highest probability\n",
    "# class 0 = Angry   class 1 = Disgust   class 2 = Fear   class 3 = Happy\n",
    "# class 4 = Neural  class 5 = Pleasant Surprise   class 6 = Sad\n",
    "predicted_class = np.argmax(predictions, axis=-1)\n",
    "\n",
    "print(\"Predicted class:\", np.round(predictions,2))\n",
    "print(predicted_class)\n"
   ]
  },
  {
   "cell_type": "code",
   "execution_count": 10,
   "metadata": {},
   "outputs": [
    {
     "name": "stdout",
     "output_type": "stream",
     "text": [
      "Audio File Name: 16b10Fb.wav ------ Emotion Type: Happy\n",
      "Audio File Name: 16b10Lb.wav ------ Emotion Type: Happy\n",
      "Audio File Name: angry_male.mp3 ------ Emotion Type: Disgust\n",
      "Audio File Name: JK_n03.wav ------ Emotion Type: Sad\n",
      "Audio File Name: Joy.wav ------ Emotion Type: Disgust\n",
      "Audio File Name: my_angry.wav ------ Emotion Type: Disgust\n",
      "Audio File Name: my_disgust.wav ------ Emotion Type: Disgust\n",
      "Audio File Name: my_happy.wav ------ Emotion Type: Disgust\n",
      "Audio File Name: my_upset.wav ------ Emotion Type: Disgust\n",
      "Audio File Name: neutral_male.mp3 ------ Emotion Type: Disgust\n"
     ]
    }
   ],
   "source": [
    "emotion = ['Angry','Disgust','Fear','Happy','Neutral','Surprise','Sad']\n",
    "i=0\n",
    "for audio in os.listdir(folder):\n",
    "    print(f'Audio File Name: {audio} ------ Emotion Type: {emotion[predicted_class[i]]}')\n",
    "    i=i+1\n",
    "    "
   ]
  }
 ],
 "metadata": {
  "kernelspec": {
   "display_name": "Python 3",
   "language": "python",
   "name": "python3"
  },
  "language_info": {
   "codemirror_mode": {
    "name": "ipython",
    "version": 3
   },
   "file_extension": ".py",
   "mimetype": "text/x-python",
   "name": "python",
   "nbconvert_exporter": "python",
   "pygments_lexer": "ipython3",
   "version": "3.10.11"
  }
 },
 "nbformat": 4,
 "nbformat_minor": 2
}
